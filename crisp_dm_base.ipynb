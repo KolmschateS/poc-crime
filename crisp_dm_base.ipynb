{
 "cells": [
  {
   "cell_type": "markdown",
   "metadata": {},
   "source": [
    "# Crime stat analysis\n",
    "\n"
   ]
  },
  {
   "cell_type": "markdown",
   "metadata": {},
   "source": [
    "## Business understanding\n",
    "\n",
    "### Determine business objectives\n",
    "\n",
    "### Assess situation\n",
    "\n",
    "### Determine data mining goals\n",
    "\n",
    "### Project plan"
   ]
  },
  {
   "cell_type": "markdown",
   "metadata": {},
   "source": [
    "## Data understanding\n",
    "\n",
    "### Collect initial data\n",
    "\n",
    "### Describe data\n",
    "\n",
    "### Explore data\n",
    "\n",
    "### Verify data quality"
   ]
  },
  {
   "cell_type": "markdown",
   "metadata": {},
   "source": [
    "## Data preparation\n",
    "\n",
    "### Select data\n",
    "\n",
    "### Clean data\n",
    "\n",
    "### Construct data\n",
    "\n",
    "### Integrate data\n",
    "\n",
    "### Format data\n",
    "\n",
    "### Dataset description"
   ]
  },
  {
   "cell_type": "markdown",
   "metadata": {},
   "source": [
    "## Modelling\n",
    "\n",
    "### Select modelling techniques\n",
    "\n",
    "### Generate test design\n",
    "\n",
    "### Build model\n",
    "\n",
    "### Assess Model"
   ]
  },
  {
   "cell_type": "markdown",
   "metadata": {},
   "source": [
    "## Evaluation\n",
    "\n",
    "### Evaluate results\n",
    "\n",
    "### Review process\n",
    "\n",
    "### Determine next steps"
   ]
  },
  {
   "cell_type": "markdown",
   "metadata": {},
   "source": [
    "## Deployment\n",
    "\n",
    "### Plan deployment\n",
    "\n",
    "### Plan monitoring and maintenance\n",
    "\n",
    "### Produce final report\n",
    "\n",
    "### Review project"
   ]
  },
  {
   "cell_type": "markdown",
   "metadata": {},
   "source": []
  }
 ],
 "metadata": {
  "language_info": {
   "name": "python"
  },
  "orig_nbformat": 4
 },
 "nbformat": 4,
 "nbformat_minor": 2
}
