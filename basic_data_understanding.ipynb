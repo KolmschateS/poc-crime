{
 "cells": [
  {
   "cell_type": "markdown",
   "metadata": {},
   "source": [
    "# Data understanding for Crime Stat\n",
    "Dit documentje is een basis voor de data understanding van de datasets die we hebben gekgregen voor de tweede challenge voor de Proof of Concept. "
   ]
  },
  {
   "cell_type": "code",
   "execution_count": 10,
   "metadata": {},
   "outputs": [
    {
     "name": "stdout",
     "output_type": "stream",
     "text": [
      "<class 'pandas.core.frame.DataFrame'>\n",
      "RangeIndex: 470278 entries, 0 to 470277\n",
      "Data columns (total 19 columns):\n",
      " #   Column                  Non-Null Count   Dtype  \n",
      "---  ------                  --------------   -----  \n",
      " 0   incident_id             470278 non-null  int64  \n",
      " 1   offense_id              470278 non-null  int64  \n",
      " 2   OFFENSE_CODE            470278 non-null  int64  \n",
      " 3   OFFENSE_CODE_EXTENSION  470278 non-null  int64  \n",
      " 4   OFFENSE_TYPE_ID         470278 non-null  object \n",
      " 5   OFFENSE_CATEGORY_ID     470278 non-null  object \n",
      " 6   FIRST_OCCURRENCE_DATE   470278 non-null  object \n",
      " 7   LAST_OCCURRENCE_DATE    174528 non-null  object \n",
      " 8   REPORTED_DATE           470278 non-null  object \n",
      " 9   INCIDENT_ADDRESS        432413 non-null  object \n",
      " 10  GEO_X                   466247 non-null  float64\n",
      " 11  GEO_Y                   466247 non-null  float64\n",
      " 12  GEO_LON                 466246 non-null  float64\n",
      " 13  GEO_LAT                 466246 non-null  float64\n",
      " 14  DISTRICT_ID             470277 non-null  float64\n",
      " 15  PRECINCT_ID             470277 non-null  float64\n",
      " 16  NEIGHBORHOOD_ID         470277 non-null  object \n",
      " 17  IS_CRIME                470278 non-null  int64  \n",
      " 18  IS_TRAFFIC              470278 non-null  int64  \n",
      "dtypes: float64(6), int64(6), object(7)\n",
      "memory usage: 68.2+ MB\n",
      "None\n",
      "<class 'pandas.core.frame.DataFrame'>\n",
      "RangeIndex: 299 entries, 0 to 298\n",
      "Data columns (total 9 columns):\n",
      " #   Column                  Non-Null Count  Dtype \n",
      "---  ------                  --------------  ----- \n",
      " 0   OBJECTID                299 non-null    int64 \n",
      " 1   OFFENSE_CODE            299 non-null    int64 \n",
      " 2   OFFENSE_CODE_EXTENSION  299 non-null    int64 \n",
      " 3   OFFENSE_TYPE_ID         299 non-null    object\n",
      " 4   OFFENSE_TYPE_NAME       299 non-null    object\n",
      " 5   OFFENSE_CATEGORY_ID     299 non-null    object\n",
      " 6   OFFENSE_CATEGORY_NAME   299 non-null    object\n",
      " 7   IS_CRIME                299 non-null    int64 \n",
      " 8   IS_TRAFFIC              299 non-null    int64 \n",
      "dtypes: int64(5), object(4)\n",
      "memory usage: 21.1+ KB\n",
      "None\n"
     ]
    }
   ],
   "source": [
    "import platform\n",
    "import os\n",
    "import pandas as pd\n",
    "\n",
    "# get working directory\n",
    "working_directory = os.getcwd()\n",
    "\n",
    "# check if macos\n",
    "isMac = \"macos\" in platform.platform().lower()\n",
    "\n",
    "# set path variables\n",
    "crime_file_path = f\"{working_directory}/data/crime.csv\" if isMac else f\"{working_directory}\\\\data\\\\crime.csv\"\n",
    "offense_file_path = f\"{working_directory}/data/offense_codes.csv\" if isMac else f\"{working_directory}\\\\data\\\\offense_codes.csv\"\n",
    "\n",
    "crime_df = pd.read_csv(crime_file_path)\n",
    "offense_df = pd.read_csv(offense_file_path)\n",
    "\n",
    "print(crime_df.info())\n",
    "print(offense_df.info())\n"
   ]
  }
 ],
 "metadata": {
  "interpreter": {
   "hash": "04424c07e93952831df2dc7b33f7a16bea78f900ce9061862845cf73f03bb74c"
  },
  "kernelspec": {
   "display_name": "Python 3.9.7 ('base')",
   "language": "python",
   "name": "python3"
  },
  "language_info": {
   "codemirror_mode": {
    "name": "ipython",
    "version": 3
   },
   "file_extension": ".py",
   "mimetype": "text/x-python",
   "name": "python",
   "nbconvert_exporter": "python",
   "pygments_lexer": "ipython3",
   "version": "3.9.7"
  },
  "orig_nbformat": 4
 },
 "nbformat": 4,
 "nbformat_minor": 2
}
