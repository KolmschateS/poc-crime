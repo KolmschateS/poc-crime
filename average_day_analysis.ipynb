{
 "cells": [
  {
   "cell_type": "markdown",
   "metadata": {},
   "source": [
    "# Average Day Crime Stats\n",
    "\n",
    "Om een vergelijking te maken tussen de feesdagen en een gemiddelde dag. Moeten we eerst inzicht hebben in elke vraag over de gehele dataset. Daar is deze notebook voor.\n",
    "\n",
    "De vragen die beantwoord moeten worden zijn:\n",
    "- Hoeveel incidenten worden er gemiddeld op een dag gerapporteerd?\n",
    "- Wat is over de hele dataset de verhouding tussen de verschillende \"offense categoriën\"?\n",
    "- Wat is over de hele dateset de verhouding tussen de verschillende \"neighbourhoods\"?\n",
    "\n",
    "Laten we eerst beginnen met een stukje data understanding."
   ]
  },
  {
   "cell_type": "markdown",
   "metadata": {},
   "source": [
    "## Data Understanding\n",
    "#### NOTE: De code hieronder zorgt dat de rest van het notebook werkt op zowel Mac als Windows"
   ]
  },
  {
   "cell_type": "code",
   "execution_count": null,
   "metadata": {},
   "outputs": [],
   "source": [
    "import platform\n",
    "import os\n",
    "\n",
    "# Get working directory\n",
    "working_directory = os.getcwd()\n",
    "\n",
    "# check if macos\n",
    "isMac = \"macos\" in platform.platform().lower()"
   ]
  },
  {
   "cell_type": "markdown",
   "metadata": {},
   "source": [
    "### Format\n",
    "De data is aangeleverd in twee losse csv bestanden; crime.csv en offense_codes.csv. De bestanden zijn repectievelijk ±120 mb en ±35kb. \n",
    "\n",
    "NOTE: voeg de bestanden toe aan een mapje \"data\" onder de namen die hierboven staan."
   ]
  },
  {
   "cell_type": "code",
   "execution_count": null,
   "metadata": {},
   "outputs": [],
   "source": [
    "# Variabele \n",
    "crime_file_path = (f\"{working_directory}/data/crime.csv\" if isMac else f\"{working_directory}\\\\data\\\\crime.csv\")\n",
    "offense_file_path = f\"{working_directory}/data/offense_codes.csv\" if isMac else f\"{working_directory}\\\\data\\\\offense_codes.csv\""
   ]
  },
  {
   "cell_type": "markdown",
   "metadata": {},
   "source": [
    "### Data benaderen\n",
    "De data kan worden benaderd met de paden die in bovenstaande cell staan. Dit doen we door ze in een Pandas Dataframe te stoppen, zoals hieronder. Hierna kun je in dit hele Jupyter Notebook gebruik maken van de dataframes."
   ]
  },
  {
   "cell_type": "code",
   "execution_count": null,
   "metadata": {},
   "outputs": [],
   "source": [
    "import pandas as pd\n",
    "\n",
    "# Data in een dataframe te stoppen\n",
    "crime_df = pd.read_csv(crime_file_path)\n",
    "offense_df = pd.read_csv(offense_file_path)"
   ]
  },
  {
   "cell_type": "markdown",
   "metadata": {},
   "source": [
    "### Data exploratie\n",
    "Voor beide bestanden willen we eerst een globaal inzicht in de data. Hieronder gaan we ze een voor een bij langs.\n"
   ]
  },
  {
   "cell_type": "markdown",
   "metadata": {},
   "source": [
    "### Crime.csv\n",
    "Allereerst kijken we naar een csv bestand met daarin geregistreerde incidenten die zijn gebeurt in de stad Denver in Amerika.\n",
    "Hieronder zie je hoeveel records er zijn (470278) en hoeveel kolommen (19). Ook zien we de (door pandas geïnterpreteerde) datatypes."
   ]
  },
  {
   "cell_type": "code",
   "execution_count": null,
   "metadata": {},
   "outputs": [],
   "source": [
    "crime_df.info()\n",
    "total_records_crime = 470278"
   ]
  },
  {
   "cell_type": "markdown",
   "metadata": {},
   "source": [
    "De kolommen betekenen het volgende:\n",
    "\n",
    "| Variabele              | Betekenis                                                                      |\n",
    "|------------------------|--------------------------------------------------------------------------------|\n",
    "| incident_id            | De identifier van het indicent                                                 |\n",
    "| offense_id             | De identifier van de illegale activiteit                                       |\n",
    "| OFFENSE_CODE           | De code van de illegale activiteit                                             |\n",
    "| OFFENSE_CODE_EXTENSION | De extensie op de code van de illegale activiteit                              |\n",
    "| OFFENSE_TYPE_ID        | De type van de illegale activiteit                                             |\n",
    "| OFFENSE_CATEGORY_ID    | De category van de illegale activiteit                                         |\n",
    "| FIRST_OCCURRENCE_DATE  | De datum van de eerste voorval van de illegale activiteit                      |\n",
    "| LAST_OCCURRENCE_DATE   | De datum van de laatste voorval van de illegale activiteit                     |\n",
    "| REPORTED_DATE          | De datum wanneer het incident is gerapporteerd                                 |\n",
    "| INCIDENT_ADDRESS       | Het adres waar het incident heeft plaats gevonden                              |\n",
    "| GEO_X                  | GEO code op de X as van het incident                                           |\n",
    "| GEO_Y                  | GEO code op de Y as van het incident                                           |\n",
    "| GEO_LON                | GEO longitude van het incident                                                 |\n",
    "| GEO_LAT                | GEO latitude van het incident                                                  |\n",
    "| DISTRICT_ID            | De identifier van de staat/staten waar het indicent zich heeft plaats gevonden |\n",
    "| PRECINCT_ID            | De identifier van het politiebureau waar het district toe behoort              |\n",
    "| NEIGHBORHOOD_ID        | De identifier van de buurt waar het indicent zich heeft plaats gevonden        |\n",
    "| IS_CRIME               | Of het incident wel of geen misdaad is                                         |\n",
    "| IS_TRAFFIC             | Of het incident wel of geen verkeersongeval is                                 |"
   ]
  },
  {
   "cell_type": "markdown",
   "metadata": {},
   "source": [
    "Hieronder zie je een overzicht van een aantal beschrijvende statistieken van de dataset."
   ]
  },
  {
   "cell_type": "code",
   "execution_count": null,
   "metadata": {},
   "outputs": [],
   "source": [
    "crime_df.describe()"
   ]
  },
  {
   "cell_type": "markdown",
   "metadata": {},
   "source": [
    "Hieronder zie je hoe een regel van de dataset eruit ziet."
   ]
  },
  {
   "cell_type": "code",
   "execution_count": null,
   "metadata": {},
   "outputs": [],
   "source": [
    "crime_df.head()"
   ]
  },
  {
   "cell_type": "markdown",
   "metadata": {},
   "source": [
    "### Offense_codes.csv\n",
    "Hieronder zie je een soortgelijk overzicht van de dataset met offense codes. Zoals je ziet zijn er 299 entries met 9 kolommen. Ook zien we de (door pandas geïnterpreteerde) datatypes. "
   ]
  },
  {
   "cell_type": "code",
   "execution_count": null,
   "metadata": {},
   "outputs": [],
   "source": [
    "offense_df.info()"
   ]
  },
  {
   "cell_type": "markdown",
   "metadata": {},
   "source": [
    "De kolommen betekenen het volgende.\n",
    "\n",
    "| Variabele              | Beschrijving                                  |\n",
    "|------------------------|-----------------------------------------------|\n",
    "| OBJECTID               | De identifier van de misdaad                  |\n",
    "| OFFENSE_CODE           | De code van de misdaad                        |\n",
    "| OFFENSE_CODE_EXTENSION | De extensie op de code van de misdaad         |\n",
    "| OFFENSE_TYPE_ID        | De identifier van de type van de misdaad      |\n",
    "| OFFENSE_TYPE_NAME      | De naam van de type van de misdaad            |\n",
    "| OFFENSE_CATEGORY_ID    | De identifier van de categorie van de misdaad |\n",
    "| OFFENSE_CATEGORY_NAME  | De naam van de categorie van de misdaad       |\n",
    "| IS_CRIME               | Of de misdaad wel of geen misdaad is          |\n",
    "| IS_TRAFFIC             | Of de misdaad wel of geen verkeersongeval is  |"
   ]
  },
  {
   "cell_type": "markdown",
   "metadata": {},
   "source": [
    "Hieronder zie je een overzicht van een aantal beschrijvende statistieken van de dataset."
   ]
  },
  {
   "cell_type": "code",
   "execution_count": null,
   "metadata": {},
   "outputs": [],
   "source": [
    "offense_df.describe()"
   ]
  },
  {
   "cell_type": "markdown",
   "metadata": {},
   "source": [
    "Hieronder zie je hoe een regel van de dataset eruit ziet."
   ]
  },
  {
   "cell_type": "code",
   "execution_count": null,
   "metadata": {},
   "outputs": [],
   "source": [
    "offense_df.head()"
   ]
  },
  {
   "cell_type": "markdown",
   "metadata": {},
   "source": [
    "Daarbij hebben we een overzicht van alle unieke offense types"
   ]
  },
  {
   "cell_type": "code",
   "execution_count": null,
   "metadata": {},
   "outputs": [],
   "source": [
    "offense_types = offense_df[\"OFFENSE_TYPE_NAME\"]\n",
    "for type in offense_types:\n",
    "    print(f\"{type}\")"
   ]
  },
  {
   "cell_type": "markdown",
   "metadata": {},
   "source": [
    "## Data preparation\n",
    "Nu we een overzicht hebben van de data waar we over beschikken, kunnen we gaan kijken naar de data die we nodig hebben om de vragen te beantwoorden. Tot slot bereiden we een uiteindelijk voor analyse bruikbare dataset voor.\n",
    "\n",
    "### Select data\n",
    "Als je kijkt naar de vragen en de beschrijving van de kolommen (zie data understanding) kunnen we kijken welke kolommen belangrijk zijn om de vragen te beantwoorden.\n",
    "\n",
    "- Gemiddeld aantal incidenten per dag >> groupen op kolom \"reported_date\"\n",
    "- Verhouding per offense name group op kolom \"OFFENSE_TYPE_NAME\"\n",
    "- verhouding per neighnbourhood group op kolom \"neighbourhood_id\"\n",
    "\n",
    "### Clean data\n",
    "\n",
    "### Construct data\n",
    "\n",
    "### Integrate data\n",
    "\n",
    "### Format data\n",
    "\n",
    "### Dataset description\n"
   ]
  },
  {
   "cell_type": "code",
   "execution_count": null,
   "metadata": {},
   "outputs": [],
   "source": [
    "\n",
    "offense_type_group = crime_df.groupby(\"OFFENSE_CATEGORY_ID\", as_index=False)\n",
    "offense_types = offense_type_group.size()\n",
    "offense_types = offense_types.sort_values(by=\"size\", ascending=False)\n",
    "offense_types[\"percentage\"] = offense_types[\"size\"] / total_records_crime * 100\n",
    "offense_types"
   ]
  },
  {
   "cell_type": "code",
   "execution_count": 160,
   "metadata": {},
   "outputs": [
    {
     "data": {
      "image/png": "[encoded data removed]",
      "text/plain": [
       "<Figure size 432x288 with 1 Axes>"
      ]
     },
     "metadata": {
      "needs_background": "light"
     },
     "output_type": "display_data"
    }
   ],
   "source": [
    "import matplotlib.pyplot as plt\n",
    "import seaborn as sns\n",
    "import helpers\n",
    "\n",
    "otypes_plot = sns.barplot(data=offense_types, x=offense_types[\"OFFENSE_CATEGORY_ID\"], y=\"percentage\")\n",
    "otypes_plot.set_xticklabels(otypes_plot.get_xticklabels(), rotation=40, ha=\"right\")\n",
    "\n",
    "helpers.show_values(otypes_plot)\n",
    "plt.show()\n"
   ]
  },
  {
   "cell_type": "code",
   "execution_count": 163,
   "metadata": {},
   "outputs": [
    {
     "data": {
      "text/html": [
       "<div>\n",
       "<style scoped>\n",
       "    .dataframe tbody tr th:only-of-type {\n",
       "        vertical-align: middle;\n",
       "    }\n",
       "\n",
       "    .dataframe tbody tr th {\n",
       "        vertical-align: top;\n",
       "    }\n",
       "\n",
       "    .dataframe thead th {\n",
       "        text-align: right;\n",
       "    }\n",
       "</style>\n",
       "<table border=\"1\" class=\"dataframe\">\n",
       "  <thead>\n",
       "    <tr style=\"text-align: right;\">\n",
       "      <th></th>\n",
       "      <th>DISTRICT_ID</th>\n",
       "      <th>size</th>\n",
       "      <th>percentage</th>\n",
       "    </tr>\n",
       "  </thead>\n",
       "  <tbody>\n",
       "    <tr>\n",
       "      <th>2</th>\n",
       "      <td>3.0</td>\n",
       "      <td>107683</td>\n",
       "      <td>22.897733</td>\n",
       "    </tr>\n",
       "    <tr>\n",
       "      <th>5</th>\n",
       "      <td>6.0</td>\n",
       "      <td>95803</td>\n",
       "      <td>20.371567</td>\n",
       "    </tr>\n",
       "    <tr>\n",
       "      <th>0</th>\n",
       "      <td>1.0</td>\n",
       "      <td>79837</td>\n",
       "      <td>16.976554</td>\n",
       "    </tr>\n",
       "    <tr>\n",
       "      <th>1</th>\n",
       "      <td>2.0</td>\n",
       "      <td>67641</td>\n",
       "      <td>14.383195</td>\n",
       "    </tr>\n",
       "    <tr>\n",
       "      <th>3</th>\n",
       "      <td>4.0</td>\n",
       "      <td>60061</td>\n",
       "      <td>12.771382</td>\n",
       "    </tr>\n",
       "    <tr>\n",
       "      <th>4</th>\n",
       "      <td>5.0</td>\n",
       "      <td>52754</td>\n",
       "      <td>11.217620</td>\n",
       "    </tr>\n",
       "    <tr>\n",
       "      <th>6</th>\n",
       "      <td>7.0</td>\n",
       "      <td>6498</td>\n",
       "      <td>1.381736</td>\n",
       "    </tr>\n",
       "  </tbody>\n",
       "</table>\n",
       "</div>"
      ],
      "text/plain": [
       "   DISTRICT_ID    size  percentage\n",
       "2          3.0  107683   22.897733\n",
       "5          6.0   95803   20.371567\n",
       "0          1.0   79837   16.976554\n",
       "1          2.0   67641   14.383195\n",
       "3          4.0   60061   12.771382\n",
       "4          5.0   52754   11.217620\n",
       "6          7.0    6498    1.381736"
      ]
     },
     "execution_count": 163,
     "metadata": {},
     "output_type": "execute_result"
    }
   ],
   "source": [
    "neighbourhood_group = crime_df.groupby(\"DISTRICT_ID\", as_index=False)\n",
    "neighbourhood_occurrence = neighbourhood_group.size()\n",
    "neighbourhood_occurrence = neighbourhood_occurrence.sort_values(by=\"size\", ascending=False)\n",
    "neighbourhood_occurrence[\"percentage\"] = neighbourhood_occurrence[\"size\"] / total_records_crime * 100\n",
    "neighbourhood_occurrence"
   ]
  },
  {
   "cell_type": "code",
   "execution_count": 172,
   "metadata": {},
   "outputs": [
    {
     "data": {
      "image/png": "[encoded data removed]",
      "text/plain": [
       "<Figure size 432x288 with 1 Axes>"
      ]
     },
     "metadata": {
      "needs_background": "light"
     },
     "output_type": "display_data"
    }
   ],
   "source": [
    "nbh_plot = sns.barplot(data=neighbourhood_occurrence, x=\"DISTRICT_ID\", y=\"percentage\", order=neighbourhood_occurrence.sort_values(\"size\", ascending=False).DISTRICT_ID)\n",
    "nbh_plot.set_xticklabels(nbh_plot.get_xticklabels(), rotation=40, ha=\"right\")\n",
    "helpers.show_values(nbh_plot)\n",
    "\n",
    "plt.show()"
   ]
  },
  {
   "cell_type": "markdown",
   "metadata": {},
   "source": [
    "\n",
    "## Modelling\n",
    "\n",
    "### Select modelling techniques\n",
    "\n",
    "### Generate test design\n",
    "\n",
    "### Build model\n",
    "\n",
    "### Assess Model"
   ]
  },
  {
   "cell_type": "markdown",
   "metadata": {},
   "source": []
  }
 ],
 "metadata": {
  "interpreter": {
   "hash": "04424c07e93952831df2dc7b33f7a16bea78f900ce9061862845cf73f03bb74c"
  },
  "kernelspec": {
   "display_name": "Python 3.9.7 ('base')",
   "language": "python",
   "name": "python3"
  },
  "language_info": {
   "codemirror_mode": {
    "name": "ipython",
    "version": 3
   },
   "file_extension": ".py",
   "mimetype": "text/x-python",
   "name": "python",
   "nbconvert_exporter": "python",
   "pygments_lexer": "ipython3",
   "version": "3.9.7"
  },
  "orig_nbformat": 4
 },
 "nbformat": 4,
 "nbformat_minor": 2
}
